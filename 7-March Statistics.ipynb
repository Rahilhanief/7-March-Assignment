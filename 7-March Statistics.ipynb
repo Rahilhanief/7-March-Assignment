{
 "cells": [
  {
   "cell_type": "code",
   "execution_count": 1,
   "id": "3231fb1b-af23-4375-8d9d-b3a5140e20fa",
   "metadata": {},
   "outputs": [],
   "source": [
    "## Q No.1 : What are the three measures of central tendency.\n",
    "# Mean , Median , Mode"
   ]
  },
  {
   "cell_type": "code",
   "execution_count": null,
   "id": "6480723f-ecae-4d9a-8e1e-6552d174e432",
   "metadata": {},
   "outputs": [],
   "source": [
    "## Q No.2 : What is the difference between mean median and mode.How are they used to measure central tendency of a data set. \n",
    "\"\"\"\n",
    "The mode is the most frequent value.\n",
    "The median is the middle number in an ordered data set.\n",
    "The mean is the sum of all values divided by the total number of values.\n",
    "\"\"\""
   ]
  },
  {
   "cell_type": "code",
   "execution_count": 6,
   "id": "1af18881-cad1-469b-95b2-2107311a0d6c",
   "metadata": {},
   "outputs": [
    {
     "data": {
      "text/plain": [
       "177.01875"
      ]
     },
     "execution_count": 6,
     "metadata": {},
     "output_type": "execute_result"
    }
   ],
   "source": [
    "## Q No.3 :\n",
    "heights =[178,177,176,177,178.2,178,175,179,180,175,178.9,176.2,177,172.5,178,176.5]\n",
    "import numpy as np\n",
    "np.mean(heights)"
   ]
  },
  {
   "cell_type": "code",
   "execution_count": 8,
   "id": "bf5156f2-f1e7-4383-b531-83bd646e0408",
   "metadata": {},
   "outputs": [
    {
     "data": {
      "text/plain": [
       "177.0"
      ]
     },
     "execution_count": 8,
     "metadata": {},
     "output_type": "execute_result"
    }
   ],
   "source": [
    "np.median(heights)"
   ]
  },
  {
   "cell_type": "code",
   "execution_count": 9,
   "id": "069f7f80-eb72-4ae9-984a-c801c4ece55c",
   "metadata": {},
   "outputs": [
    {
     "name": "stderr",
     "output_type": "stream",
     "text": [
      "/tmp/ipykernel_70/2713150148.py:2: FutureWarning: Unlike other reduction functions (e.g. `skew`, `kurtosis`), the default behavior of `mode` typically preserves the axis it acts along. In SciPy 1.11.0, this behavior will change: the default value of `keepdims` will become False, the `axis` over which the statistic is taken will be eliminated, and the value None will no longer be accepted. Set `keepdims` to True or False to avoid this warning.\n",
      "  stats.mode(heights)\n"
     ]
    },
    {
     "data": {
      "text/plain": [
       "ModeResult(mode=array([177.]), count=array([3]))"
      ]
     },
     "execution_count": 9,
     "metadata": {},
     "output_type": "execute_result"
    }
   ],
   "source": [
    "from scipy import stats\n",
    "stats.mode(heights)"
   ]
  },
  {
   "cell_type": "code",
   "execution_count": 11,
   "id": "ceb62056-204b-4df4-9d06-826bf4b94c28",
   "metadata": {},
   "outputs": [
    {
     "data": {
      "text/plain": [
       "1.7885814036548633"
      ]
     },
     "execution_count": 11,
     "metadata": {},
     "output_type": "execute_result"
    }
   ],
   "source": [
    "## Q No.4 :\n",
    "heights =[178,177,176,177,178.2,178,175,179,180,175,178.9,176.2,177,172.5,178,176.5]\n",
    "np.std(heights)"
   ]
  },
  {
   "cell_type": "code",
   "execution_count": 12,
   "id": "4e922ad2-e69a-4b12-9644-0d264d8957ea",
   "metadata": {},
   "outputs": [
    {
     "data": {
      "text/plain": [
       "\"\\nRange: the difference between the highest and lowest values.\\nStandard deviation: average distance from the mean.\\nVariance: average of squared distances from the mean\\n\\nExample :Calculation of variance and standard deviation and range.\\nLet's calculate the variance of the follow data set: 2, 7, 3, 12, 9. The variance is 13.84.\\nTo get the standard deviation, you calculate the square root of the variance, which is 3.72\\nRange :12- 2 =10\\n\""
      ]
     },
     "execution_count": 12,
     "metadata": {},
     "output_type": "execute_result"
    }
   ],
   "source": [
    "## Q No. 5 :\n",
    "\"\"\"\n",
    "Range: the difference between the highest and lowest values.\n",
    "Standard deviation: average distance from the mean.\n",
    "Variance: average of squared distances from the mean\n",
    "\n",
    "Example :Calculation of variance and standard deviation and range.\n",
    "Let's calculate the variance of the follow data set: 2, 7, 3, 12, 9. The variance is 13.84.\n",
    "To get the standard deviation, you calculate the square root of the variance, which is 3.72\n",
    "Range :12- 2 =10\n",
    "\"\"\""
   ]
  },
  {
   "cell_type": "code",
   "execution_count": 13,
   "id": "fcc60d8b-cc1b-41a8-bdc5-3d0b8cb51f9e",
   "metadata": {},
   "outputs": [],
   "source": [
    "## Q No. 6 :What is a Venn diagra.\n",
    "# A Venn diagram uses overlapping circles or other shapes toillustrate the logical relationships between two or more sets of items."
   ]
  },
  {
   "cell_type": "code",
   "execution_count": 14,
   "id": "b120db25-a330-4f26-a805-8b0d56fcb19b",
   "metadata": {},
   "outputs": [],
   "source": [
    "## Q No. 7 : A=(2,3,4,5,6,7) , B =(0,2,4,6,8,10)\n",
    "# A intersection B = 2,4,6\n",
    "# A Union B =2,3,4,5,6,7,0,8,10"
   ]
  },
  {
   "cell_type": "code",
   "execution_count": 17,
   "id": "41ab07c4-d519-4647-97d7-2b51766cdbcf",
   "metadata": {},
   "outputs": [],
   "source": [
    "## Q No. 8 :What do you understand about skewness in data.\n",
    "# Skewness is a measure of the asymmetry of a distribution.A distribution is asymmetrical when its left and right side are not mirror images"
   ]
  },
  {
   "cell_type": "code",
   "execution_count": 18,
   "id": "58e36cca-38bd-4793-bc40-15f85c9fa8f7",
   "metadata": {},
   "outputs": [],
   "source": [
    "## Q No. 9 : if a data is right skewed what will be the position of median wrt mean.\n",
    "# Median will be on the left side of mean"
   ]
  },
  {
   "cell_type": "code",
   "execution_count": null,
   "id": "0c2af84a-ec8e-4cea-a4ce-96aea998e4c4",
   "metadata": {},
   "outputs": [],
   "source": [
    "## Q No. 10 :\n",
    "\"\"\"Covariance measures the direction of a relationship between two variables,\n",
    "while correlation measures the strength of that relationship.\n",
    "Both correlation and covariance are positive when the variables move in the same direction \n",
    "and negative when they move in opposite directions."
   ]
  },
  {
   "cell_type": "code",
   "execution_count": 19,
   "id": "7275cd80-88c0-4aec-9639-f317e0e447ae",
   "metadata": {},
   "outputs": [
    {
     "data": {
      "text/plain": [
       "'\\nThe general formula for calculating the sample mean is given by x̄ = ( Σ xi ) / n.\\nHere,x̄ represents the sample mean, xi refers all X sample values and n stands for the number of sample terms in the data set.\\nExample : Find the sample mean of 60, 57, 109, 50.\\n\\nSolution: \\n\\nTo find: Sample mean\\nSum of terms = 60 + 57 + 109 + 50 = 276\\nNumber of terms = 4\\nUsing sample mean formula,\\nmean = (sum of terms)/(number of terms)\\nmean = 276/4 = 69\\n'"
      ]
     },
     "execution_count": 19,
     "metadata": {},
     "output_type": "execute_result"
    }
   ],
   "source": [
    "## Q No. 11 :\n",
    "\n",
    "\"\"\"\n",
    "The general formula for calculating the sample mean is given by x̄ = ( Σ xi ) / n.\n",
    "Here,x̄ represents the sample mean, xi refers all X sample values and n stands for the number of sample terms in the data set.\n",
    "Example : Find the sample mean of 60, 57, 109, 50.\n",
    "\n",
    "Solution: \n",
    "\n",
    "To find: Sample mean\n",
    "Sum of terms = 60 + 57 + 109 + 50 = 276\n",
    "Number of terms = 4\n",
    "Using sample mean formula,\n",
    "mean = (sum of terms)/(number of terms)\n",
    "mean = 276/4 = 69\n",
    "\"\"\""
   ]
  },
  {
   "cell_type": "code",
   "execution_count": 20,
   "id": "1be1c483-72af-4f1e-bbaf-a45db5a9ddfd",
   "metadata": {},
   "outputs": [
    {
     "data": {
      "text/plain": [
       "'Any normal distribution has a graph that is perfectly symmetric about a vertical line through its peak.\\nTherefore, all measures of central tendency (most commonly, the mean, median, and mode) give the same answer.'"
      ]
     },
     "execution_count": 20,
     "metadata": {},
     "output_type": "execute_result"
    }
   ],
   "source": [
    "## Q No. 12 :\n",
    "\"\"\"Any normal distribution has a graph that is perfectly symmetric about a vertical line through its peak.\n",
    "Therefore, all measures of central tendency (most commonly, the mean, median, and mode) give the same answer.\"\"\""
   ]
  },
  {
   "cell_type": "code",
   "execution_count": 21,
   "id": "99694cd2-7ce3-4928-b600-d85fd7b18868",
   "metadata": {},
   "outputs": [],
   "source": [
    "## Q No. 13 :\n",
    "# covariance tells you that two variables change the same way while correlation reveals how a change in one variable affects a change in the other."
   ]
  },
  {
   "cell_type": "code",
   "execution_count": null,
   "id": "d2ac1a00-701e-4c23-93f4-ca6af70c401c",
   "metadata": {},
   "outputs": [],
   "source": [
    "## Q No. !4 :\n",
    "\"\"\"\n",
    "Outliers Measures of central tendency and dispersion can give misleading impressions of a data set if the set contains one or more outliers.\n",
    "An outlier is a value that is much greater than or much less than most of the other values in a data set.\n",
    "Example :\n",
    "A value that \"lies outside\" (is much smaller or larger than) most of the other values in a set of data. For example in the scores 25,29,3,32,85,33,27,28 both 3 and 85 are \"outliers\"."
   ]
  }
 ],
 "metadata": {
  "kernelspec": {
   "display_name": "Python 3 (ipykernel)",
   "language": "python",
   "name": "python3"
  },
  "language_info": {
   "codemirror_mode": {
    "name": "ipython",
    "version": 3
   },
   "file_extension": ".py",
   "mimetype": "text/x-python",
   "name": "python",
   "nbconvert_exporter": "python",
   "pygments_lexer": "ipython3",
   "version": "3.10.8"
  }
 },
 "nbformat": 4,
 "nbformat_minor": 5
}
